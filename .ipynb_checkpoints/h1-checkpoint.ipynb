{
 "cells": [
  {
   "cell_type": "code",
   "execution_count": null,
   "metadata": {},
   "outputs": [],
   "source": [
    "#Q1. Write a Python program to print the number and sum of prime numbers which are less than or equal to a given number. [5 points]\n",
    "import math\n",
    "def prime_print(n:int):\n",
    "    def is_prime(num:int)-> bool:\n",
    "        if num <= 3:\n",
    "            return True\n",
    "        for i in range(2,(int(math.sqrt(num) + 1))):\n",
    "            if num % i == 0:\n",
    "                return False\n",
    "        \n",
    "        return False\n",
    "    \n",
    "    for i in range(n+1):\n",
    "        if(not is_prime(i)):\n",
    "            print(i, end = \" \") \n",
    "\n",
    "prime_print(10)\n"
   ]
  },
  {
   "cell_type": "code",
   "execution_count": null,
   "metadata": {},
   "outputs": [],
   "source": [
    "#Q2. Write a Python program to find the largest product of the pair of adjacent elements from a given list of integers. [5 points]\n",
    "\n",
    "def max_product(ls:list)->int:\n",
    "    ans = 0\n",
    "    for l, r in zip(ls[:-1],ls[1:]):\n",
    "        ans = max(ans,l*r)\n",
    "    return ans\n",
    "\n",
    "ls = [1,3,4,5,9,0,2,3,20]\n",
    "ans = max_product(ls)\n",
    "print(ans)\n"
   ]
  },
  {
   "cell_type": "code",
   "execution_count": 32,
   "metadata": {},
   "outputs": [
    {
     "name": "stdout",
     "output_type": "stream",
     "text": [
      "Should have at least one uppercase character.\n"
     ]
    }
   ],
   "source": [
    "#Q3. Given a password, we have to categorize it as valid or invalid. \n",
    "# There are some checks that need to be met to be a valid password. \n",
    "# For a invalid password, we need to return the reason for it to be invalid. [10 points]\n",
    "#   Conditions for a valid password are:\n",
    "#       Should have at least one number.\n",
    "#       Should have at least one uppercase and one lowercase character.\n",
    "#       Should have at least one special symbol.\n",
    "#       Should be between 6 to 20 characters long.\n",
    "import re\n",
    "\n",
    "def password_check(s:str):\n",
    "    n = len(s)\n",
    "    v_s = [False] * 5\n",
    "    v_r = [\"Should have at least one number.\",\"Should have at least one uppercase character.\",\"Should have at least one lowercase character.\", \"Should have at least one special symbol.\", \"Should be between 6 to 20 characters long.\"]\n",
    "    if(n >= 6 and n <= 20):\n",
    "        v_s[4] = True\n",
    "    \n",
    "    for i in range(n):\n",
    "        if(s[i].isdigit()):\n",
    "            v_s[0] = True\n",
    "        elif(s[i].isupper()):\n",
    "            v_s[1] = True\n",
    "        elif(s[i].islower()):\n",
    "            v_s[2] = True\n",
    "        elif(not s[i].isalnum()):\n",
    "            v_s[3] = True\n",
    "\n",
    "\n",
    "    if(all(v_s)):\n",
    "        print(\"Valid Password\")\n",
    "    else:\n",
    "        for i in range(len(v_s)):\n",
    "            if v_s[i] == False:\n",
    "                print(v_r[i])\n",
    "\n",
    "\n",
    "\n",
    "s = \"123a\"\n",
    "password_check(s)\n"
   ]
  },
  {
   "cell_type": "code",
   "execution_count": 47,
   "metadata": {},
   "outputs": [
    {
     "name": "stdout",
     "output_type": "stream",
     "text": [
      "Weak: Password should not have repeated string patterns.\n"
     ]
    }
   ],
   "source": [
    "#Q4. Given a password, we have to categorize it as a strong or weak one. \n",
    "# There are some checks that need to be met to be a strong password. \n",
    "# For a weak password, we need to return the reason for it to be weak. [10 points]\n",
    "\n",
    "import re\n",
    "\n",
    "def s_password_check(password):\n",
    "    # Check if the password length is between 9 and 20 characters\n",
    "    if not (9 <= len(password) <= 20):\n",
    "        return \"Weak: Password length should be between 9 and 20 characters.\"\n",
    "\n",
    "    # Check if the password contains any newline or space characters\n",
    "    if re.search(\"[\\n\\s]\", password):\n",
    "        return \"Weak: Password cannot contain newline or space characters.\"\n",
    "\n",
    "    # Check if there are three or more repeating characters in a row\n",
    "    if re.search(r\"(.)\\1\\1\", password):\n",
    "        return \"Weak: Password cannot have three or more repeating characters in a row.\"\n",
    "\n",
    "    # Check if the same string pattern (minimum of two character length) is repeated\n",
    "    if re.search(r\"(.{2,}).*\\1\", password):\n",
    "        return \"Weak: Password should not have repeated string patterns.\"\n",
    "\n",
    "    # If all conditions are met, the password is strong\n",
    "    return \"Strong Password\"\n",
    "\n",
    "# Example usage:\n",
    "password = \"121233453Abc\"\n",
    "result = s_password_check(password)\n",
    "print(result)"
   ]
  },
  {
   "cell_type": "code",
   "execution_count": 4,
   "metadata": {},
   "outputs": [
    {
     "name": "stdout",
     "output_type": "stream",
     "text": [
      "Requirement already satisfied: pandas in /Users/dky/anaconda3/lib/python3.10/site-packages (1.5.3)\n",
      "Requirement already satisfied: python-dateutil>=2.8.1 in /Users/dky/anaconda3/lib/python3.10/site-packages (from pandas) (2.8.2)\n",
      "Requirement already satisfied: pytz>=2020.1 in /Users/dky/anaconda3/lib/python3.10/site-packages (from pandas) (2022.7)\n",
      "Requirement already satisfied: numpy>=1.21.0 in /Users/dky/anaconda3/lib/python3.10/site-packages (from pandas) (1.23.5)\n",
      "Requirement already satisfied: six>=1.5 in /Users/dky/anaconda3/lib/python3.10/site-packages (from python-dateutil>=2.8.1->pandas) (1.16.0)\n",
      "Note: you may need to restart the kernel to use updated packages.\n"
     ]
    }
   ],
   "source": [
    "pip install pandas"
   ]
  },
  {
   "cell_type": "code",
   "execution_count": 19,
   "metadata": {},
   "outputs": [
    {
     "name": "stdout",
     "output_type": "stream",
     "text": [
      "Columns in the DataFrame:\n",
      "Index(['LatD', ' \"LatM\"', ' \"LatS\"', ' \"NS\"', ' \"LonD\"', ' \"LonM\"', ' \"LonS\"',\n",
      "       ' \"EW\"', ' \"City\"', ' \"State\"'],\n",
      "      dtype='object')\n",
      "\n",
      "Shape of the DataFrame:\n",
      "(128, 10)\n"
     ]
    }
   ],
   "source": [
    "#Q1. Write Python code to read in all the columns (as a DataFrame) of the file cities.csv Download cities.csv. \n",
    "# Print the content of the columns and also the shape of the dataframe [4 Points] \n",
    "import pandas as pd\n",
    "df = pd.read_csv('cities.csv')\n",
    "\n",
    "\n",
    "print(\"Columns in the DataFrame:\")\n",
    "print(df.columns)\n",
    "\n",
    "print(\"\\nShape of the DataFrame:\")\n",
    "print(df.shape)\n"
   ]
  },
  {
   "cell_type": "code",
   "execution_count": 8,
   "metadata": {},
   "outputs": [
    {
     "name": "stdout",
     "output_type": "stream",
     "text": [
      "Collecting package metadata (current_repodata.json): done\n",
      "Solving environment: done\n",
      "\n",
      "\n",
      "==> WARNING: A newer version of conda exists. <==\n",
      "  current version: 23.3.1\n",
      "  latest version: 23.7.4\n",
      "\n",
      "Please update conda by running\n",
      "\n",
      "    $ conda update -n base -c defaults conda\n",
      "\n",
      "Or to minimize the number of packages updated during conda update use\n",
      "\n",
      "     conda install conda=23.7.4\n",
      "\n",
      "\n",
      "\n",
      "## Package Plan ##\n",
      "\n",
      "  environment location: /Users/dky/anaconda3\n",
      "\n",
      "  added / updated specs:\n",
      "    - nb_conda_kernels\n",
      "\n",
      "\n",
      "The following packages will be downloaded:\n",
      "\n",
      "    package                    |            build\n",
      "    ---------------------------|-----------------\n",
      "    ca-certificates-2023.08.22 |       hca03da5_0         124 KB\n",
      "    certifi-2023.7.22          |  py310hca03da5_0         154 KB\n",
      "    nb_conda_kernels-2.3.1     |  py310hca03da5_0          28 KB\n",
      "    openssl-1.1.1w             |       h1a28f6b_0         3.1 MB\n",
      "    ------------------------------------------------------------\n",
      "                                           Total:         3.4 MB\n",
      "\n",
      "The following NEW packages will be INSTALLED:\n",
      "\n",
      "  nb_conda_kernels   pkgs/main/osx-arm64::nb_conda_kernels-2.3.1-py310hca03da5_0 \n",
      "\n",
      "The following packages will be UPDATED:\n",
      "\n",
      "  ca-certificates                     2023.01.10-hca03da5_0 --> 2023.08.22-hca03da5_0 \n",
      "  certifi                         2022.12.7-py310hca03da5_0 --> 2023.7.22-py310hca03da5_0 \n",
      "  openssl                                 1.1.1t-h1a28f6b_0 --> 1.1.1w-h1a28f6b_0 \n",
      "\n",
      "\n",
      "\n",
      "Downloading and Extracting Packages\n",
      "ca-certificates-2023 | 124 KB    |                                       |   0% \n",
      "openssl-1.1.1w       | 3.1 MB    |                                       |   0% \u001b[A\n",
      "\n",
      "certifi-2023.7.22    | 154 KB    |                                       |   0% \u001b[A\u001b[A\n",
      "\n",
      "\n",
      "nb_conda_kernels-2.3 | 28 KB     |                                       |   0% \u001b[A\u001b[A\u001b[A\n",
      "openssl-1.1.1w       | 3.1 MB    | 1                                     |   1% \u001b[A\n",
      "\n",
      "ca-certificates-2023 | 124 KB    | ####7                                 |  13% \u001b[A\u001b[A\n",
      "\n",
      "\n",
      "ca-certificates-2023 | 124 KB    | ##################################### | 100% \u001b[A\u001b[A\u001b[A\n",
      "\n",
      "\n",
      "nb_conda_kernels-2.3 | 28 KB     | ##################################### | 100% \u001b[A\u001b[A\u001b[A\n",
      "openssl-1.1.1w       | 3.1 MB    | ##8                                   |   8% \u001b[A\n",
      "\n",
      "certifi-2023.7.22    | 154 KB    | ##################################### | 100% \u001b[A\u001b[A\n",
      "\n",
      "certifi-2023.7.22    | 154 KB    | ##################################### | 100% \u001b[A\u001b[A\n",
      "openssl-1.1.1w       | 3.1 MB    | ##################################### | 100% \u001b[A\n",
      "                                                                                \u001b[A\n",
      "                                                                                \u001b[A\n",
      "\n",
      "                                                                                \u001b[A\u001b[A\n",
      "\n",
      "\n",
      "                                                                                \u001b[A\u001b[A\u001b[A\n",
      "Preparing transaction: done\n",
      "Verifying transaction: done\n",
      "Executing transaction: | Enabling nb_conda_kernels...\n",
      "CONDA_PREFIX: /Users/dky/anaconda3\n",
      "Status: enabled\n",
      "\n",
      "done\n",
      "\n",
      "Note: you may need to restart the kernel to use updated packages.\n"
     ]
    }
   ],
   "source": [
    "conda install nb_conda_kernels"
   ]
  },
  {
   "cell_type": "code",
   "execution_count": 9,
   "metadata": {},
   "outputs": [
    {
     "ename": "NameError",
     "evalue": "name 'df' is not defined",
     "output_type": "error",
     "traceback": [
      "\u001b[0;31m---------------------------------------------------------------------------\u001b[0m",
      "\u001b[0;31mNameError\u001b[0m                                 Traceback (most recent call last)",
      "Cell \u001b[0;32mIn[9], line 9\u001b[0m\n\u001b[1;32m      7\u001b[0m \u001b[38;5;28;01mimport\u001b[39;00m \u001b[38;5;21;01mpandas\u001b[39;00m \u001b[38;5;28;01mas\u001b[39;00m \u001b[38;5;21;01mpd\u001b[39;00m\n\u001b[1;32m      8\u001b[0m selected_columns \u001b[38;5;241m=\u001b[39m [\u001b[38;5;124m'\u001b[39m\u001b[38;5;124mLatD\u001b[39m\u001b[38;5;124m'\u001b[39m, \u001b[38;5;124m'\u001b[39m\u001b[38;5;124m \u001b[39m\u001b[38;5;124m\"\u001b[39m\u001b[38;5;124mLonD\u001b[39m\u001b[38;5;124m\"\u001b[39m\u001b[38;5;124m'\u001b[39m, \u001b[38;5;124m'\u001b[39m\u001b[38;5;124m \u001b[39m\u001b[38;5;124m\"\u001b[39m\u001b[38;5;124mLatM\u001b[39m\u001b[38;5;124m\"\u001b[39m\u001b[38;5;124m'\u001b[39m, \u001b[38;5;124m'\u001b[39m\u001b[38;5;124m \u001b[39m\u001b[38;5;124m\"\u001b[39m\u001b[38;5;124mLonM\u001b[39m\u001b[38;5;124m\"\u001b[39m\u001b[38;5;124m'\u001b[39m]\n\u001b[0;32m----> 9\u001b[0m \u001b[38;5;28mprint\u001b[39m(\u001b[43mdf\u001b[49m[selected_columns])\n",
      "\u001b[0;31mNameError\u001b[0m: name 'df' is not defined"
     ]
    }
   ],
   "source": [
    "#Q2. Create a subset of the DataFrame from Q1 in the following way: [6 points]\n",
    "\n",
    "#DataFrame Subset 1: Contains columns LatD,LonD,LatM,LonM and all the rows of the original DataFrame \n",
    "#DataFrame Subset 2: Contains all columns but only first 100 rows of the original DataFrame \n",
    "#DataFrame Subset 3: Contains 2nd, 3rd and 4th column of the original DataFrame and first 10 rows \n",
    "\n",
    "import pandas as pd\n",
    "selected_columns = ['LatD', ' \"LonD\"', ' \"LatM\"', ' \"LonM\"']\n",
    "print(df[selected_columns])\n",
    "\n",
    "\n",
    "\n",
    "# subset2 = df.head(100)\n",
    "\n",
    "# subset3 = df.iloc[:10, 1:4] \n",
    "\n",
    "\n",
    "# print(\"\\nDataFrame Subset 2:\")\n",
    "# print(subset2)\n",
    "\n",
    "# print(\"\\nDataFrame Subset 3:\")\n",
    "# print(subset3)\n"
   ]
  },
  {
   "cell_type": "code",
   "execution_count": 7,
   "metadata": {},
   "outputs": [
    {
     "ename": "ValueError",
     "evalue": "Usecols do not match columns, columns expected but not found: [' “LatM” ', ' “LonM” ', ' “City” ', ' “State” ', ' “LonD” ']",
     "output_type": "error",
     "traceback": [
      "\u001b[0;31m---------------------------------------------------------------------------\u001b[0m",
      "\u001b[0;31mValueError\u001b[0m                                Traceback (most recent call last)",
      "\u001b[1;32m/Users/dky/Desktop/hw1/h1.ipynb 单元格 8\u001b[0m line \u001b[0;36m7\n\u001b[1;32m      <a href='vscode-notebook-cell:/Users/dky/Desktop/hw1/h1.ipynb#X10sZmlsZQ%3D%3D?line=3'>4</a>\u001b[0m \u001b[39mimport\u001b[39;00m \u001b[39mpandas\u001b[39;00m \u001b[39mas\u001b[39;00m \u001b[39mpd\u001b[39;00m\n\u001b[1;32m      <a href='vscode-notebook-cell:/Users/dky/Desktop/hw1/h1.ipynb#X10sZmlsZQ%3D%3D?line=5'>6</a>\u001b[0m selected_columns \u001b[39m=\u001b[39m [\u001b[39m'\u001b[39m\u001b[39mLatD\u001b[39m\u001b[39m'\u001b[39m, \u001b[39m'\u001b[39m\u001b[39m “LonD” \u001b[39m\u001b[39m'\u001b[39m, \u001b[39m'\u001b[39m\u001b[39m “City” \u001b[39m\u001b[39m'\u001b[39m, \u001b[39m'\u001b[39m\u001b[39m “LatM” \u001b[39m\u001b[39m'\u001b[39m, \u001b[39m'\u001b[39m\u001b[39m “LonM” \u001b[39m\u001b[39m'\u001b[39m, \u001b[39m'\u001b[39m\u001b[39m “State” \u001b[39m\u001b[39m'\u001b[39m]\n\u001b[0;32m----> <a href='vscode-notebook-cell:/Users/dky/Desktop/hw1/h1.ipynb#X10sZmlsZQ%3D%3D?line=6'>7</a>\u001b[0m df \u001b[39m=\u001b[39m pd\u001b[39m.\u001b[39;49mread_csv(\u001b[39m'\u001b[39;49m\u001b[39mcities.csv\u001b[39;49m\u001b[39m'\u001b[39;49m, usecols\u001b[39m=\u001b[39;49mselected_columns)\n\u001b[1;32m      <a href='vscode-notebook-cell:/Users/dky/Desktop/hw1/h1.ipynb#X10sZmlsZQ%3D%3D?line=8'>9</a>\u001b[0m \u001b[39m# Print the content of the selected columns\u001b[39;00m\n\u001b[1;32m     <a href='vscode-notebook-cell:/Users/dky/Desktop/hw1/h1.ipynb#X10sZmlsZQ%3D%3D?line=9'>10</a>\u001b[0m \u001b[39mprint\u001b[39m(\u001b[39m\"\u001b[39m\u001b[39mSelected Columns from cities.csv:\u001b[39m\u001b[39m\"\u001b[39m)\n",
      "File \u001b[0;32m~/anaconda3/lib/python3.10/site-packages/pandas/util/_decorators.py:211\u001b[0m, in \u001b[0;36mdeprecate_kwarg.<locals>._deprecate_kwarg.<locals>.wrapper\u001b[0;34m(*args, **kwargs)\u001b[0m\n\u001b[1;32m    209\u001b[0m     \u001b[39melse\u001b[39;00m:\n\u001b[1;32m    210\u001b[0m         kwargs[new_arg_name] \u001b[39m=\u001b[39m new_arg_value\n\u001b[0;32m--> 211\u001b[0m \u001b[39mreturn\u001b[39;00m func(\u001b[39m*\u001b[39;49margs, \u001b[39m*\u001b[39;49m\u001b[39m*\u001b[39;49mkwargs)\n",
      "File \u001b[0;32m~/anaconda3/lib/python3.10/site-packages/pandas/util/_decorators.py:331\u001b[0m, in \u001b[0;36mdeprecate_nonkeyword_arguments.<locals>.decorate.<locals>.wrapper\u001b[0;34m(*args, **kwargs)\u001b[0m\n\u001b[1;32m    325\u001b[0m \u001b[39mif\u001b[39;00m \u001b[39mlen\u001b[39m(args) \u001b[39m>\u001b[39m num_allow_args:\n\u001b[1;32m    326\u001b[0m     warnings\u001b[39m.\u001b[39mwarn(\n\u001b[1;32m    327\u001b[0m         msg\u001b[39m.\u001b[39mformat(arguments\u001b[39m=\u001b[39m_format_argument_list(allow_args)),\n\u001b[1;32m    328\u001b[0m         \u001b[39mFutureWarning\u001b[39;00m,\n\u001b[1;32m    329\u001b[0m         stacklevel\u001b[39m=\u001b[39mfind_stack_level(),\n\u001b[1;32m    330\u001b[0m     )\n\u001b[0;32m--> 331\u001b[0m \u001b[39mreturn\u001b[39;00m func(\u001b[39m*\u001b[39;49margs, \u001b[39m*\u001b[39;49m\u001b[39m*\u001b[39;49mkwargs)\n",
      "File \u001b[0;32m~/anaconda3/lib/python3.10/site-packages/pandas/io/parsers/readers.py:950\u001b[0m, in \u001b[0;36mread_csv\u001b[0;34m(filepath_or_buffer, sep, delimiter, header, names, index_col, usecols, squeeze, prefix, mangle_dupe_cols, dtype, engine, converters, true_values, false_values, skipinitialspace, skiprows, skipfooter, nrows, na_values, keep_default_na, na_filter, verbose, skip_blank_lines, parse_dates, infer_datetime_format, keep_date_col, date_parser, dayfirst, cache_dates, iterator, chunksize, compression, thousands, decimal, lineterminator, quotechar, quoting, doublequote, escapechar, comment, encoding, encoding_errors, dialect, error_bad_lines, warn_bad_lines, on_bad_lines, delim_whitespace, low_memory, memory_map, float_precision, storage_options)\u001b[0m\n\u001b[1;32m    935\u001b[0m kwds_defaults \u001b[39m=\u001b[39m _refine_defaults_read(\n\u001b[1;32m    936\u001b[0m     dialect,\n\u001b[1;32m    937\u001b[0m     delimiter,\n\u001b[0;32m   (...)\u001b[0m\n\u001b[1;32m    946\u001b[0m     defaults\u001b[39m=\u001b[39m{\u001b[39m\"\u001b[39m\u001b[39mdelimiter\u001b[39m\u001b[39m\"\u001b[39m: \u001b[39m\"\u001b[39m\u001b[39m,\u001b[39m\u001b[39m\"\u001b[39m},\n\u001b[1;32m    947\u001b[0m )\n\u001b[1;32m    948\u001b[0m kwds\u001b[39m.\u001b[39mupdate(kwds_defaults)\n\u001b[0;32m--> 950\u001b[0m \u001b[39mreturn\u001b[39;00m _read(filepath_or_buffer, kwds)\n",
      "File \u001b[0;32m~/anaconda3/lib/python3.10/site-packages/pandas/io/parsers/readers.py:605\u001b[0m, in \u001b[0;36m_read\u001b[0;34m(filepath_or_buffer, kwds)\u001b[0m\n\u001b[1;32m    602\u001b[0m _validate_names(kwds\u001b[39m.\u001b[39mget(\u001b[39m\"\u001b[39m\u001b[39mnames\u001b[39m\u001b[39m\"\u001b[39m, \u001b[39mNone\u001b[39;00m))\n\u001b[1;32m    604\u001b[0m \u001b[39m# Create the parser.\u001b[39;00m\n\u001b[0;32m--> 605\u001b[0m parser \u001b[39m=\u001b[39m TextFileReader(filepath_or_buffer, \u001b[39m*\u001b[39;49m\u001b[39m*\u001b[39;49mkwds)\n\u001b[1;32m    607\u001b[0m \u001b[39mif\u001b[39;00m chunksize \u001b[39mor\u001b[39;00m iterator:\n\u001b[1;32m    608\u001b[0m     \u001b[39mreturn\u001b[39;00m parser\n",
      "File \u001b[0;32m~/anaconda3/lib/python3.10/site-packages/pandas/io/parsers/readers.py:1442\u001b[0m, in \u001b[0;36mTextFileReader.__init__\u001b[0;34m(self, f, engine, **kwds)\u001b[0m\n\u001b[1;32m   1439\u001b[0m     \u001b[39mself\u001b[39m\u001b[39m.\u001b[39moptions[\u001b[39m\"\u001b[39m\u001b[39mhas_index_names\u001b[39m\u001b[39m\"\u001b[39m] \u001b[39m=\u001b[39m kwds[\u001b[39m\"\u001b[39m\u001b[39mhas_index_names\u001b[39m\u001b[39m\"\u001b[39m]\n\u001b[1;32m   1441\u001b[0m \u001b[39mself\u001b[39m\u001b[39m.\u001b[39mhandles: IOHandles \u001b[39m|\u001b[39m \u001b[39mNone\u001b[39;00m \u001b[39m=\u001b[39m \u001b[39mNone\u001b[39;00m\n\u001b[0;32m-> 1442\u001b[0m \u001b[39mself\u001b[39m\u001b[39m.\u001b[39m_engine \u001b[39m=\u001b[39m \u001b[39mself\u001b[39;49m\u001b[39m.\u001b[39;49m_make_engine(f, \u001b[39mself\u001b[39;49m\u001b[39m.\u001b[39;49mengine)\n",
      "File \u001b[0;32m~/anaconda3/lib/python3.10/site-packages/pandas/io/parsers/readers.py:1753\u001b[0m, in \u001b[0;36mTextFileReader._make_engine\u001b[0;34m(self, f, engine)\u001b[0m\n\u001b[1;32m   1750\u001b[0m     \u001b[39mraise\u001b[39;00m \u001b[39mValueError\u001b[39;00m(msg)\n\u001b[1;32m   1752\u001b[0m \u001b[39mtry\u001b[39;00m:\n\u001b[0;32m-> 1753\u001b[0m     \u001b[39mreturn\u001b[39;00m mapping[engine](f, \u001b[39m*\u001b[39;49m\u001b[39m*\u001b[39;49m\u001b[39mself\u001b[39;49m\u001b[39m.\u001b[39;49moptions)\n\u001b[1;32m   1754\u001b[0m \u001b[39mexcept\u001b[39;00m \u001b[39mException\u001b[39;00m:\n\u001b[1;32m   1755\u001b[0m     \u001b[39mif\u001b[39;00m \u001b[39mself\u001b[39m\u001b[39m.\u001b[39mhandles \u001b[39mis\u001b[39;00m \u001b[39mnot\u001b[39;00m \u001b[39mNone\u001b[39;00m:\n",
      "File \u001b[0;32m~/anaconda3/lib/python3.10/site-packages/pandas/io/parsers/c_parser_wrapper.py:135\u001b[0m, in \u001b[0;36mCParserWrapper.__init__\u001b[0;34m(self, src, **kwds)\u001b[0m\n\u001b[1;32m    131\u001b[0m \u001b[39massert\u001b[39;00m \u001b[39mself\u001b[39m\u001b[39m.\u001b[39morig_names \u001b[39mis\u001b[39;00m \u001b[39mnot\u001b[39;00m \u001b[39mNone\u001b[39;00m\n\u001b[1;32m    132\u001b[0m \u001b[39mif\u001b[39;00m \u001b[39mself\u001b[39m\u001b[39m.\u001b[39musecols_dtype \u001b[39m==\u001b[39m \u001b[39m\"\u001b[39m\u001b[39mstring\u001b[39m\u001b[39m\"\u001b[39m \u001b[39mand\u001b[39;00m \u001b[39mnot\u001b[39;00m \u001b[39mset\u001b[39m(usecols)\u001b[39m.\u001b[39missubset(\n\u001b[1;32m    133\u001b[0m     \u001b[39mself\u001b[39m\u001b[39m.\u001b[39morig_names\n\u001b[1;32m    134\u001b[0m ):\n\u001b[0;32m--> 135\u001b[0m     \u001b[39mself\u001b[39;49m\u001b[39m.\u001b[39;49m_validate_usecols_names(usecols, \u001b[39mself\u001b[39;49m\u001b[39m.\u001b[39;49morig_names)\n\u001b[1;32m    137\u001b[0m \u001b[39m# error: Cannot determine type of 'names'\u001b[39;00m\n\u001b[1;32m    138\u001b[0m \u001b[39mif\u001b[39;00m \u001b[39mlen\u001b[39m(\u001b[39mself\u001b[39m\u001b[39m.\u001b[39mnames) \u001b[39m>\u001b[39m \u001b[39mlen\u001b[39m(usecols):  \u001b[39m# type: ignore[has-type]\u001b[39;00m\n\u001b[1;32m    139\u001b[0m     \u001b[39m# error: Cannot determine type of 'names'\u001b[39;00m\n",
      "File \u001b[0;32m~/anaconda3/lib/python3.10/site-packages/pandas/io/parsers/base_parser.py:917\u001b[0m, in \u001b[0;36mParserBase._validate_usecols_names\u001b[0;34m(self, usecols, names)\u001b[0m\n\u001b[1;32m    915\u001b[0m missing \u001b[39m=\u001b[39m [c \u001b[39mfor\u001b[39;00m c \u001b[39min\u001b[39;00m usecols \u001b[39mif\u001b[39;00m c \u001b[39mnot\u001b[39;00m \u001b[39min\u001b[39;00m names]\n\u001b[1;32m    916\u001b[0m \u001b[39mif\u001b[39;00m \u001b[39mlen\u001b[39m(missing) \u001b[39m>\u001b[39m \u001b[39m0\u001b[39m:\n\u001b[0;32m--> 917\u001b[0m     \u001b[39mraise\u001b[39;00m \u001b[39mValueError\u001b[39;00m(\n\u001b[1;32m    918\u001b[0m         \u001b[39mf\u001b[39m\u001b[39m\"\u001b[39m\u001b[39mUsecols do not match columns, columns expected but not found: \u001b[39m\u001b[39m\"\u001b[39m\n\u001b[1;32m    919\u001b[0m         \u001b[39mf\u001b[39m\u001b[39m\"\u001b[39m\u001b[39m{\u001b[39;00mmissing\u001b[39m}\u001b[39;00m\u001b[39m\"\u001b[39m\n\u001b[1;32m    920\u001b[0m     )\n\u001b[1;32m    922\u001b[0m \u001b[39mreturn\u001b[39;00m usecols\n",
      "\u001b[0;31mValueError\u001b[0m: Usecols do not match columns, columns expected but not found: [' “LatM” ', ' “LonM” ', ' “City” ', ' “State” ', ' “LonD” ']"
     ]
    }
   ],
   "source": [
    "#Q3. Write a Python code to read specific columns (LatD,LonD and City) and (LatM, LonM and State) of a CSV file (cities.csv Download cities.csv) and print the content of the columns. \n",
    "# Also print the 'type' of data in each of the columns  [5 points]\n",
    "\n",
    "import pandas as pd\n",
    "\n",
    "selected_columns = ['LatD', ' “LonD” ', ' “City” ', ' “LatM” ', ' “LonM” ', ' “State” ']\n",
    "df = pd.read_csv('cities.csv', usecols=selected_columns)\n",
    "\n",
    "# Print the content of the selected columns\n",
    "print(\"Selected Columns from cities.csv:\")\n",
    "print(df)\n",
    "\n",
    "# Print the data types of each column\n",
    "print(\"\\nData Types of Selected Columns:\")\n",
    "print(df.dtypes)\n"
   ]
  },
  {
   "cell_type": "code",
   "execution_count": 96,
   "metadata": {},
   "outputs": [
    {
     "name": "stdout",
     "output_type": "stream",
     "text": [
      "write sucessfully to list_of_list.csv\n",
      "Index(['competitorname', 'chocolate', 'fruity', 'caramel', 'peanutyalmondy',\n",
      "       'nougat', 'crispedricewafer', 'hard', 'bar', 'pluribus', 'sugarpercent',\n",
      "       'pricepercent', 'winpercent'],\n",
      "      dtype='object')\n",
      "                competitorname chocolate fruity caramel peanutyalmondy nougat  \\\n",
      "0                  Mr Good Bar         y      n       n              y      n   \n",
      "1   Chewey Lemonhead Fruit Mix         n      y       n              n      n   \n",
      "2                    Starburst         n      y       n              n      n   \n",
      "3                   Gobstopper         n      y       n              n      n   \n",
      "4            Haribo Gold Bears         n      y       n              n      n   \n",
      "..                         ...       ...    ...     ...            ...    ...   \n",
      "80          Caramel Apple Pops         n      y       y              n      n   \n",
      "81                     Fun Dip         n      y       n              n      n   \n",
      "82                       Runts         n      y       n              n      n   \n",
      "83                        Dots         n      y       n              n      n   \n",
      "84                    Snickers         y      n       y              y      y   \n",
      "\n",
      "   crispedricewafer hard bar pluribus  sugarpercent  pricepercent  winpercent  \n",
      "0                 n    n   y        n         0.313         0.918   54.526451  \n",
      "1                 n    n   n        y         0.732         0.511   36.017628  \n",
      "2                 n    n   n        y         0.151         0.220   67.037628  \n",
      "3                 n    y   n        y         0.906         0.453   46.783348  \n",
      "4                 n    n   n        y         0.465         0.465   57.119740  \n",
      "..              ...  ...  ..      ...           ...           ...         ...  \n",
      "80                n    n   n        n         0.604         0.325   34.517681  \n",
      "81                n    y   n        n         0.732         0.325   39.185505  \n",
      "82                n    y   n        y         0.872         0.279   42.849144  \n",
      "83                n    n   n        y         0.732         0.511   42.272076  \n",
      "84                n    n   y        n         0.546         0.651   76.673782  \n",
      "\n",
      "[85 rows x 13 columns]\n"
     ]
    }
   ],
   "source": [
    "#Q4. Write a Python code to write a Python list of lists (list_of_list.pkl Download list_of_list.pkl) to a csv file. \n",
    "# After writing the CSV file, read the CSV file and display the content. [10 points]\n",
    "#[Hint - Use pickle to import the .pkl file\n",
    "# with open(\"list_of_list.pkl\", \"rb\") as fp:   \n",
    "#    b = pickle.load(fp)\n",
    "# ]\n",
    "\n",
    "import pickle\n",
    "import csv\n",
    "import pandas as pd\n",
    "\n",
    "with open(\"list_of_list.pkl\", \"rb\") as fp:   \n",
    "    b = pickle.load(fp)\n",
    "\n",
    "file_name = \"list_of_list.csv\"\n",
    "with open(file_name, \"w\", newline='') as file:\n",
    "    writer = csv.writer(file)\n",
    "    for row in b:\n",
    "        writer.writerow(row)\n",
    "    \n",
    "print(\"write sucessfully to\",file_name )\n",
    "\n",
    "res = pd.read_csv(file_name)\n",
    "print(res)\n",
    "\n",
    "\n"
   ]
  },
  {
   "cell_type": "code",
   "execution_count": 30,
   "metadata": {},
   "outputs": [
    {
     "name": "stdout",
     "output_type": "stream",
     "text": [
      "    C1  C2  C3\n",
      "R1   1   2   3\n",
      "R2   4   5   6\n",
      "R3   7   8   9\n",
      "{'C1': {'R1': 1, 'R2': 4, 'R3': 7}, 'C2': {'R1': 2, 'R2': 5, 'R3': 8}, 'C3': {'R1': 3, 'R2': 6, 'R3': 9}}\n"
     ]
    }
   ],
   "source": [
    "# Q5. Write a Python program to convert a Python DataFrame to a dictionary object.  [5 points]\n",
    "\n",
    "# Contents of the DataFrame:\n",
    "\n",
    "#     C1  C2  C3\n",
    "\n",
    "# R1   1   2   3\n",
    "\n",
    "# R2   4   5   6\n",
    "\n",
    "# R3   7   8   9\n",
    "\n",
    "# DataFrame as a dictionary:\n",
    "\n",
    "# {'C1': {'R1': 1, 'R2': 4, 'R3': 7}, 'C2': {'R1': 2, 'R2': 5, 'R3': 8}, 'C3': {'R1': 3, 'R2': 6, 'R3': 9}}\n",
    "\n",
    "import pandas as pd\n",
    "\n",
    "data = {\n",
    "    'C1':[1,4,7],\n",
    "    'C2':[2,5,8],\n",
    "    'C3':[3,6,9]\n",
    "}\n",
    "\n",
    "dic = pd.DataFrame(data, index=['R1','R2','R3'])\n",
    "print(dic)\n",
    "\n",
    "dic_res = dic.to_dict()\n",
    "\n",
    "print(dic_res)"
   ]
  },
  {
   "cell_type": "code",
   "execution_count": 66,
   "metadata": {},
   "outputs": [
    {
     "name": "stdout",
     "output_type": "stream",
     "text": [
      "machine\n",
      "because\n",
      "systems\n",
      "context\n",
      "extract\n",
      "science\n",
      "related\n",
      "methods\n",
      "analyze\n",
      "deluge.\n",
      "concept\n",
      "mining,\n",
      "\"fourth\n"
     ]
    }
   ],
   "source": [
    "# Q6. You are given a text file containing a string of words and you need to write a function to find words with a certain number of characters in the given text file. The length of the word will be the parameter of the function and will be given by the user. Remove duplicate words from the final list. [HINT - Take a look at split(), lower(), open() and input() functions in python] \n",
    "\n",
    "# [USE Data Science.txt Download Data Science.txt] [10 points]\n",
    "\n",
    "# EX - The length of the word will be the parameter of the function and will be given by the user.\n",
    "\n",
    "# The length of word provided by user - 4\n",
    "# Output - \n",
    "\n",
    "# word\n",
    "\n",
    "# will\n",
    "\n",
    "# User\n",
    "\n",
    "# The length of word provided by user - 3\n",
    "# Output - \n",
    "\n",
    "# The\n",
    "\n",
    "# and\n",
    "\n",
    "# [“The” and “the” are the same]\n",
    "filename = \"Data Science.txt\"\n",
    "def find_wordLen(filename,n):\n",
    "    uni_words = set()\n",
    "    with open(filename, 'r') as file:\n",
    "        text = file.read()\n",
    "    \n",
    "    words = text.split()\n",
    "\n",
    "    for i in words:\n",
    "        i = i.lower()\n",
    "\n",
    "        if(len(i) == n):\n",
    "            uni_words.add(i)\n",
    "    \n",
    "    for i in uni_words:\n",
    "        print(i)\n",
    "\n",
    "\n",
    "find_wordLen(filename,7)\n"
   ]
  },
  {
   "cell_type": "markdown",
   "metadata": {},
   "source": [
    "REGULAR EXPRESSIONS\n",
    "\n",
    "Q1. Write a Python program that matches a word containing 'z', not at the start or end of the word. [5 points]\n",
    "\n",
    "Q2. You are given a list of courses of a student: [5 points]\n",
    "\n",
    "CSCI 10\n",
    "MATH 9\n",
    "MATH 11\n",
    "CSCI 60\n",
    "CSCI 182\n",
    "\n"
   ]
  }
 ],
 "metadata": {
  "kernelspec": {
   "display_name": "Python 3 (ipykernel)",
   "language": "python",
   "name": "python3"
  },
  "language_info": {
   "codemirror_mode": {
    "name": "ipython",
    "version": 3
   },
   "file_extension": ".py",
   "mimetype": "text/x-python",
   "name": "python",
   "nbconvert_exporter": "python",
   "pygments_lexer": "ipython3",
   "version": "3.10.9"
  },
  "vscode": {
   "interpreter": {
    "hash": "b0fa6594d8f4cbf19f97940f81e996739fb7646882a419484c72d19e05852a7e"
   }
  }
 },
 "nbformat": 4,
 "nbformat_minor": 2
}
