{
 "cells": [
  {
   "cell_type": "markdown",
   "metadata": {},
   "source": [
    "Kuangyu Dai & Xijing Wang\n",
    "CSCI 183 \n",
    "HW1"
   ]
  },
  {
   "cell_type": "code",
   "execution_count": null,
   "metadata": {},
   "outputs": [],
   "source": [
    "#Q1. Write a Python program to print the number and sum of prime numbers which are less than or equal to a given number. [5 points]\n",
    "import math\n",
    "def prime_print(n:int):\n",
    "    def is_prime(num:int)-> bool:\n",
    "        if num <= 3:\n",
    "            return True\n",
    "        for i in range(2,(int(math.sqrt(num) + 1))):\n",
    "            if num % i == 0:\n",
    "                return False\n",
    "        \n",
    "        return False\n",
    "    \n",
    "    for i in range(n+1):\n",
    "        if(not is_prime(i)):\n",
    "            print(i, end = \" \") \n",
    "\n",
    "prime_print(10)\n"
   ]
  },
  {
   "cell_type": "code",
   "execution_count": null,
   "metadata": {},
   "outputs": [],
   "source": [
    "#Q2. Write a Python program to find the largest product of the pair of adjacent elements from a given list of integers. [5 points]\n",
    "\n",
    "def max_product(ls:list)->int:\n",
    "    ans = 0\n",
    "    for l, r in zip(ls[:-1],ls[1:]):\n",
    "        ans = max(ans,l*r)\n",
    "    return ans\n",
    "\n",
    "ls = [1,3,4,5,9,0,2,3,20]\n",
    "ans = max_product(ls)\n",
    "print(ans)\n"
   ]
  },
  {
   "cell_type": "code",
   "execution_count": 32,
   "metadata": {},
   "outputs": [
    {
     "name": "stdout",
     "output_type": "stream",
     "text": [
      "Should have at least one uppercase character.\n"
     ]
    }
   ],
   "source": [
    "#Q3. Given a password, we have to categorize it as valid or invalid. \n",
    "# There are some checks that need to be met to be a valid password. \n",
    "# For a invalid password, we need to return the reason for it to be invalid. [10 points]\n",
    "#   Conditions for a valid password are:\n",
    "#       Should have at least one number.\n",
    "#       Should have at least one uppercase and one lowercase character.\n",
    "#       Should have at least one special symbol.\n",
    "#       Should be between 6 to 20 characters long.\n",
    "import re\n",
    "\n",
    "def password_check(s:str):\n",
    "    n = len(s)\n",
    "    v_s = [False] * 5\n",
    "    v_r = [\"Should have at least one number.\",\"Should have at least one uppercase character.\",\"Should have at least one lowercase character.\", \"Should have at least one special symbol.\", \"Should be between 6 to 20 characters long.\"]\n",
    "    if(n >= 6 and n <= 20):\n",
    "        v_s[4] = True\n",
    "    \n",
    "    for i in range(n):\n",
    "        if(s[i].isdigit()):\n",
    "            v_s[0] = True\n",
    "        elif(s[i].isupper()):\n",
    "            v_s[1] = True\n",
    "        elif(s[i].islower()):\n",
    "            v_s[2] = True\n",
    "        elif(not s[i].isalnum()):\n",
    "            v_s[3] = True\n",
    "\n",
    "\n",
    "    if(all(v_s)):\n",
    "        print(\"Valid Password\")\n",
    "    else:\n",
    "        for i in range(len(v_s)):\n",
    "            if v_s[i] == False:\n",
    "                print(v_r[i])\n",
    "\n",
    "\n",
    "\n",
    "s = \"123a\"\n",
    "password_check(s)\n"
   ]
  },
  {
   "cell_type": "code",
   "execution_count": 47,
   "metadata": {},
   "outputs": [
    {
     "name": "stdout",
     "output_type": "stream",
     "text": [
      "Weak: Password should not have repeated string patterns.\n"
     ]
    }
   ],
   "source": [
    "#Q4. Given a password, we have to categorize it as a strong or weak one. \n",
    "# There are some checks that need to be met to be a strong password. \n",
    "# For a weak password, we need to return the reason for it to be weak. [10 points]\n",
    "\n",
    "import re\n",
    "\n",
    "def s_password_check(password):\n",
    "    # Check if the password length is between 9 and 20 characters\n",
    "    if not (9 <= len(password) <= 20):\n",
    "        return \"Weak: Password length should be between 9 and 20 characters.\"\n",
    "\n",
    "    # Check if the password contains any newline or space characters\n",
    "    if re.search(\"[\\n\\s]\", password):\n",
    "        return \"Weak: Password cannot contain newline or space characters.\"\n",
    "\n",
    "    # Check if there are three or more repeating characters in a row\n",
    "    if re.search(r\"(.)\\1\\1\", password):\n",
    "        return \"Weak: Password cannot have three or more repeating characters in a row.\"\n",
    "\n",
    "    # Check if the same string pattern (minimum of two character length) is repeated\n",
    "    if re.search(r\"(.{2,}).*\\1\", password):\n",
    "        return \"Weak: Password should not have repeated string patterns.\"\n",
    "\n",
    "    # If all conditions are met, the password is strong\n",
    "    return \"Strong Password\"\n",
    "\n",
    "# Example usage:\n",
    "password = \"121233453Abc\"\n",
    "result = s_password_check(password)\n",
    "print(result)"
   ]
  },
  {
   "cell_type": "code",
   "execution_count": 4,
   "metadata": {},
   "outputs": [
    {
     "name": "stdout",
     "output_type": "stream",
     "text": [
      "Requirement already satisfied: pandas in /Users/dky/anaconda3/lib/python3.10/site-packages (1.5.3)\n",
      "Requirement already satisfied: python-dateutil>=2.8.1 in /Users/dky/anaconda3/lib/python3.10/site-packages (from pandas) (2.8.2)\n",
      "Requirement already satisfied: pytz>=2020.1 in /Users/dky/anaconda3/lib/python3.10/site-packages (from pandas) (2022.7)\n",
      "Requirement already satisfied: numpy>=1.21.0 in /Users/dky/anaconda3/lib/python3.10/site-packages (from pandas) (1.23.5)\n",
      "Requirement already satisfied: six>=1.5 in /Users/dky/anaconda3/lib/python3.10/site-packages (from python-dateutil>=2.8.1->pandas) (1.16.0)\n",
      "Note: you may need to restart the kernel to use updated packages.\n"
     ]
    }
   ],
   "source": [
    "pip install pandas"
   ]
  },
  {
   "cell_type": "code",
   "execution_count": 13,
   "metadata": {},
   "outputs": [
    {
     "name": "stdout",
     "output_type": "stream",
     "text": [
      "Columns in the DataFrame:\n",
      "Index(['LatD', ' \"LatM\"', ' \"LatS\"', ' \"NS\"', ' \"LonD\"', ' \"LonM\"', ' \"LonS\"',\n",
      "       ' \"EW\"', ' \"City\"', ' \"State\"'],\n",
      "      dtype='object')\n",
      "\n",
      "Shape of the DataFrame:\n",
      "(128, 10)\n"
     ]
    }
   ],
   "source": [
    "#Q1. Write Python code to read in all the columns (as a DataFrame) of the file cities.csv Download cities.csv. \n",
    "# Print the content of the columns and also the shape of the dataframe [4 Points] \n",
    "import pandas as pd\n",
    "df = pd.read_csv('cities.csv')\n",
    "\n",
    "\n",
    "print(\"Columns in the DataFrame:\")\n",
    "print(df.columns)\n",
    "\n",
    "print(\"\\nShape of the DataFrame:\")\n",
    "print(df.shape)\n"
   ]
  },
  {
   "cell_type": "code",
   "execution_count": 16,
   "metadata": {},
   "outputs": [
    {
     "name": "stdout",
     "output_type": "stream",
     "text": [
      "     LatD   \"LonD\"   \"LatM\"   \"LonM\"\n",
      "0      41       80        5       39\n",
      "1      42       97       52       23\n",
      "2      46      120       35       30\n",
      "3      42       71       16       48\n",
      "4      43       89       37       46\n",
      "..    ...      ...      ...      ...\n",
      "123    39      119       31       48\n",
      "124    50      104       25       39\n",
      "125    40      122       10       14\n",
      "126    40       75       19       55\n",
      "127    41       81        9       14\n",
      "\n",
      "[128 rows x 4 columns]\n",
      "\n",
      "DataFrame Subset 2:\n",
      "    LatD   \"LatM\"   \"LatS\"  \"NS\"   \"LonD\"   \"LonM\"   \"LonS\"  \"EW\"  \\\n",
      "0     41        5       59   \"N\"       80       39        0   \"W\"   \n",
      "1     42       52       48   \"N\"       97       23       23   \"W\"   \n",
      "2     46       35       59   \"N\"      120       30       36   \"W\"   \n",
      "3     42       16       12   \"N\"       71       48        0   \"W\"   \n",
      "4     43       37       48   \"N\"       89       46       11   \"W\"   \n",
      "..   ...      ...      ...   ...      ...      ...      ...   ...   \n",
      "95    31       27       35   \"N\"      100       26       24   \"W\"   \n",
      "96    40       45       35   \"N\"      111       52       47   \"W\"   \n",
      "97    38       22       11   \"N\"       75       35       59   \"W\"   \n",
      "98    36       40       11   \"N\"      121       39        0   \"W\"   \n",
      "99    38       50       24   \"N\"       97       36       36   \"W\"   \n",
      "\n",
      "                \"City\"  \"State\"  \n",
      "0         \"Youngstown\"       OH  \n",
      "1            \"Yankton\"       SD  \n",
      "2             \"Yakima\"       WA  \n",
      "3          \"Worcester\"       MA  \n",
      "4    \"Wisconsin Dells\"       WI  \n",
      "..                 ...      ...  \n",
      "95        \"San Angelo\"       TX  \n",
      "96    \"Salt Lake City\"       UT  \n",
      "97         \"Salisbury\"       MD  \n",
      "98           \"Salinas\"       CA  \n",
      "99            \"Salina\"       KS  \n",
      "\n",
      "[100 rows x 10 columns]\n"
     ]
    }
   ],
   "source": [
    "#Q2. Create a subset of the DataFrame from Q1 in the following way: [6 points]\n",
    "\n",
    "#DataFrame Subset 1: Contains columns LatD,LonD,LatM,LonM and all the rows of the original DataFrame \n",
    "#DataFrame Subset 2: Contains all columns but only first 100 rows of the original DataFrame \n",
    "#DataFrame Subset 3: Contains 2nd, 3rd and 4th column of the original DataFrame and first 10 rows \n",
    "\n",
    "import pandas as pd\n",
    "selected_columns = ['LatD', ' \"LonD\"', ' \"LatM\"', ' \"LonM\"']\n",
    "print(df[selected_columns])\n",
    "\n",
    "\n",
    "subset2 = df.head(100)\n",
    "print(\"\\nDataFrame Subset 2:\")\n",
    "print(subset2)\n",
    "\n"
   ]
  },
  {
   "cell_type": "code",
   "execution_count": 15,
   "metadata": {},
   "outputs": [
    {
     "name": "stdout",
     "output_type": "stream",
     "text": [
      "\n",
      "DataFrame Subset 3:\n",
      "    \"LatM\"   \"LatS\"  \"NS\"\n",
      "0        5       59   \"N\"\n",
      "1       52       48   \"N\"\n",
      "2       35       59   \"N\"\n",
      "3       16       12   \"N\"\n",
      "4       37       48   \"N\"\n",
      "5        5       59   \"N\"\n",
      "6       52       48   \"N\"\n",
      "7       11       23   \"N\"\n",
      "8       14       24   \"N\"\n",
      "9       45        0   \"N\"\n"
     ]
    }
   ],
   "source": [
    "#DataFrame Subset 3: Contains 2nd, 3rd and 4th column of the original DataFrame and first 10 rows \n",
    "\n",
    "subset3 = df.iloc[:10, 1:4] \n",
    "print(\"\\nDataFrame Subset 3:\")\n",
    "print(subset3)\n"
   ]
  },
  {
   "cell_type": "code",
   "execution_count": 18,
   "metadata": {},
   "outputs": [
    {
     "name": "stdout",
     "output_type": "stream",
     "text": [
      "Selected Columns from cities.csv:\n",
      "     LatD  LonD  City LatM  LonM  State\n",
      "0      41     5    59    N    80     39\n",
      "1      42    52    48    N    97     23\n",
      "2      46    35    59    N   120     30\n",
      "3      42    16    12    N    71     48\n",
      "4      43    37    48    N    89     46\n",
      "..    ...   ...   ...  ...   ...    ...\n",
      "123    39    31    12    N   119     48\n",
      "124    50    25    11    N   104     39\n",
      "125    40    10    48    N   122     14\n",
      "126    40    19    48    N    75     55\n",
      "127    41     9    35    N    81     14\n",
      "\n",
      "[128 rows x 6 columns]\n",
      "\n",
      "Data Types of Selected Columns:\n",
      "LatD      int64\n",
      "LonD      int64\n",
      "City      int64\n",
      "LatM     object\n",
      "LonM      int64\n",
      "State     int64\n",
      "dtype: object\n"
     ]
    }
   ],
   "source": [
    "#Q3. Write a Python code to read specific columns (LatD,LonD and City) and (LatM, LonM and State) of a CSV file (cities.csv Download cities.csv) and print the content of the columns. \n",
    "# Also print the 'type' of data in each of the columns  [5 points]\n",
    "\n",
    "import pandas as pd\n",
    "\n",
    "\n",
    "df = pd.read_csv('cities.csv', header=0, \n",
    "                 names=['LatD', 'LonD', 'City', 'LatM', 'LonM', 'State'], \n",
    "                 usecols=['LatD', 'LonD', 'City', 'LatM', 'LonM', 'State'], \n",
    "                 skipinitialspace=True, quoting=1)\n",
    "\n",
    "# Print the content of the selected columns\n",
    "print(\"Selected Columns from cities.csv:\")\n",
    "print(df)\n",
    "\n",
    "# Print the data types of each column\n",
    "print(\"\\nData Types of Selected Columns:\")\n",
    "print(df.dtypes)\n"
   ]
  },
  {
   "cell_type": "code",
   "execution_count": 96,
   "metadata": {},
   "outputs": [
    {
     "name": "stdout",
     "output_type": "stream",
     "text": [
      "write sucessfully to list_of_list.csv\n",
      "Index(['competitorname', 'chocolate', 'fruity', 'caramel', 'peanutyalmondy',\n",
      "       'nougat', 'crispedricewafer', 'hard', 'bar', 'pluribus', 'sugarpercent',\n",
      "       'pricepercent', 'winpercent'],\n",
      "      dtype='object')\n",
      "                competitorname chocolate fruity caramel peanutyalmondy nougat  \\\n",
      "0                  Mr Good Bar         y      n       n              y      n   \n",
      "1   Chewey Lemonhead Fruit Mix         n      y       n              n      n   \n",
      "2                    Starburst         n      y       n              n      n   \n",
      "3                   Gobstopper         n      y       n              n      n   \n",
      "4            Haribo Gold Bears         n      y       n              n      n   \n",
      "..                         ...       ...    ...     ...            ...    ...   \n",
      "80          Caramel Apple Pops         n      y       y              n      n   \n",
      "81                     Fun Dip         n      y       n              n      n   \n",
      "82                       Runts         n      y       n              n      n   \n",
      "83                        Dots         n      y       n              n      n   \n",
      "84                    Snickers         y      n       y              y      y   \n",
      "\n",
      "   crispedricewafer hard bar pluribus  sugarpercent  pricepercent  winpercent  \n",
      "0                 n    n   y        n         0.313         0.918   54.526451  \n",
      "1                 n    n   n        y         0.732         0.511   36.017628  \n",
      "2                 n    n   n        y         0.151         0.220   67.037628  \n",
      "3                 n    y   n        y         0.906         0.453   46.783348  \n",
      "4                 n    n   n        y         0.465         0.465   57.119740  \n",
      "..              ...  ...  ..      ...           ...           ...         ...  \n",
      "80                n    n   n        n         0.604         0.325   34.517681  \n",
      "81                n    y   n        n         0.732         0.325   39.185505  \n",
      "82                n    y   n        y         0.872         0.279   42.849144  \n",
      "83                n    n   n        y         0.732         0.511   42.272076  \n",
      "84                n    n   y        n         0.546         0.651   76.673782  \n",
      "\n",
      "[85 rows x 13 columns]\n"
     ]
    }
   ],
   "source": [
    "#Q4. Write a Python code to write a Python list of lists (list_of_list.pkl Download list_of_list.pkl) to a csv file. \n",
    "# After writing the CSV file, read the CSV file and display the content. [10 points]\n",
    "#[Hint - Use pickle to import the .pkl file\n",
    "# with open(\"list_of_list.pkl\", \"rb\") as fp:   \n",
    "#    b = pickle.load(fp)\n",
    "# ]\n",
    "\n",
    "import pickle\n",
    "import csv\n",
    "import pandas as pd\n",
    "\n",
    "with open(\"list_of_list.pkl\", \"rb\") as fp:   \n",
    "    b = pickle.load(fp)\n",
    "\n",
    "file_name = \"list_of_list.csv\"\n",
    "with open(file_name, \"w\", newline='') as file:\n",
    "    writer = csv.writer(file)\n",
    "    for row in b:\n",
    "        writer.writerow(row)\n",
    "    \n",
    "print(\"write sucessfully to\",file_name )\n",
    "\n",
    "res = pd.read_csv(file_name)\n",
    "print(res)\n",
    "\n",
    "\n"
   ]
  },
  {
   "cell_type": "code",
   "execution_count": 30,
   "metadata": {},
   "outputs": [
    {
     "name": "stdout",
     "output_type": "stream",
     "text": [
      "    C1  C2  C3\n",
      "R1   1   2   3\n",
      "R2   4   5   6\n",
      "R3   7   8   9\n",
      "{'C1': {'R1': 1, 'R2': 4, 'R3': 7}, 'C2': {'R1': 2, 'R2': 5, 'R3': 8}, 'C3': {'R1': 3, 'R2': 6, 'R3': 9}}\n"
     ]
    }
   ],
   "source": [
    "# Q5. Write a Python program to convert a Python DataFrame to a dictionary object.  [5 points]\n",
    "\n",
    "# Contents of the DataFrame:\n",
    "\n",
    "#     C1  C2  C3\n",
    "\n",
    "# R1   1   2   3\n",
    "\n",
    "# R2   4   5   6\n",
    "\n",
    "# R3   7   8   9\n",
    "\n",
    "# DataFrame as a dictionary:\n",
    "\n",
    "# {'C1': {'R1': 1, 'R2': 4, 'R3': 7}, 'C2': {'R1': 2, 'R2': 5, 'R3': 8}, 'C3': {'R1': 3, 'R2': 6, 'R3': 9}}\n",
    "\n",
    "import pandas as pd\n",
    "\n",
    "data = {\n",
    "    'C1':[1,4,7],\n",
    "    'C2':[2,5,8],\n",
    "    'C3':[3,6,9]\n",
    "}\n",
    "\n",
    "dic = pd.DataFrame(data, index=['R1','R2','R3'])\n",
    "print(dic)\n",
    "\n",
    "dic_res = dic.to_dict()\n",
    "\n",
    "print(dic_res)"
   ]
  },
  {
   "cell_type": "code",
   "execution_count": 66,
   "metadata": {},
   "outputs": [
    {
     "name": "stdout",
     "output_type": "stream",
     "text": [
      "machine\n",
      "because\n",
      "systems\n",
      "context\n",
      "extract\n",
      "science\n",
      "related\n",
      "methods\n",
      "analyze\n",
      "deluge.\n",
      "concept\n",
      "mining,\n",
      "\"fourth\n"
     ]
    }
   ],
   "source": [
    "# Q6. You are given a text file containing a string of words and you need to write a function to find words with a certain number of characters in the given text file. The length of the word will be the parameter of the function and will be given by the user. Remove duplicate words from the final list. [HINT - Take a look at split(), lower(), open() and input() functions in python] \n",
    "\n",
    "# [USE Data Science.txt Download Data Science.txt] [10 points]\n",
    "\n",
    "# EX - The length of the word will be the parameter of the function and will be given by the user.\n",
    "\n",
    "# The length of word provided by user - 4\n",
    "# Output - \n",
    "\n",
    "# word\n",
    "\n",
    "# will\n",
    "\n",
    "# User\n",
    "\n",
    "# The length of word provided by user - 3\n",
    "# Output - \n",
    "\n",
    "# The\n",
    "\n",
    "# and\n",
    "\n",
    "# [“The” and “the” are the same]\n",
    "filename = \"Data Science.txt\"\n",
    "def find_wordLen(filename,n):\n",
    "    uni_words = set()\n",
    "    with open(filename, 'r') as file:\n",
    "        text = file.read()\n",
    "    \n",
    "    words = text.split()\n",
    "\n",
    "    for i in words:\n",
    "        i = i.lower()\n",
    "\n",
    "        if(len(i) == n):\n",
    "            uni_words.add(i)\n",
    "    \n",
    "    for i in uni_words:\n",
    "        print(i)\n",
    "\n",
    "\n",
    "find_wordLen(filename,7)\n"
   ]
  },
  {
   "cell_type": "markdown",
   "metadata": {},
   "source": [
    "Regular Expression"
   ]
  },
  {
   "cell_type": "code",
   "execution_count": 13,
   "metadata": {},
   "outputs": [
    {
     "name": "stdout",
     "output_type": "stream",
     "text": [
      "Words containing 'z', not at the start or end of the word:\n",
      "['amazing', 'pizza', 'aza', 'bzb']\n"
     ]
    }
   ],
   "source": [
    "#Q1. Write a Python program that matches a word containing 'z', not at the start or end of the word. [5 points]\n",
    "\n",
    "import re\n",
    "\n",
    "words = [\"zara\", \"amazing\", \"zoo\", \"buzz\", \"pizza\", \"aza\", \"bzb\", \"zc\"]\n",
    "\n",
    "m = [i for i in words if re.search('[A-Ya-y]+[A-Ya-y]*[zZ]+[A-Ya-y]*[A-Ya-y]+', i)]\n",
    "\n",
    "print(\"Words containing 'z', not at the start or end of the word:\")\n",
    "print(m)\n",
    "\n",
    "\n"
   ]
  },
  {
   "cell_type": "code",
   "execution_count": 5,
   "metadata": {},
   "outputs": [
    {
     "name": "stdout",
     "output_type": "stream",
     "text": [
      "['CSCI 10', 'CSCI 60', 'CSCI 182']\n"
     ]
    }
   ],
   "source": [
    "# Q2. You are given a list of courses of a student: [5 points]\n",
    "\n",
    "# CSCI 10\n",
    "\n",
    "# MATH 9\n",
    "\n",
    "# MATH 11\n",
    "\n",
    "# CSCI 60\n",
    "\n",
    "# CSCI 182\n",
    "\n",
    "# Write a python program that helps you to find the CSCI courses that the student has taken. Need to find the code and number. \n",
    "import re\n",
    "\n",
    "words = [\n",
    "    \"CSCI 10\",\n",
    "    \"MATH 9\",\n",
    "    \"MATH 11\",\n",
    "    \"CSCI 60\",\n",
    "    \"CSCI 182\"\n",
    "]\n",
    "\n",
    "res = [i for i in words if(re.match('[Cc][Ss][Cc][Ii]',i))]\n",
    "\n",
    "print(res)\n"
   ]
  }
 ],
 "metadata": {
  "kernelspec": {
   "display_name": "Python 3 (ipykernel)",
   "language": "python",
   "name": "python3"
  },
  "language_info": {
   "codemirror_mode": {
    "name": "ipython",
    "version": 3
   },
   "file_extension": ".py",
   "mimetype": "text/x-python",
   "name": "python",
   "nbconvert_exporter": "python",
   "pygments_lexer": "ipython3",
   "version": "3.8.9"
  },
  "vscode": {
   "interpreter": {
    "hash": "b0fa6594d8f4cbf19f97940f81e996739fb7646882a419484c72d19e05852a7e"
   }
  }
 },
 "nbformat": 4,
 "nbformat_minor": 2
}
